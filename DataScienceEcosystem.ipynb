{
 "cells": [
  {
   "cell_type": "markdown",
   "id": "62064d21-ec9b-4908-adf2-cc122efe8f69",
   "metadata": {},
   "source": [
    "# Data Science Tools and Ecosystem\n"
   ]
  },
  {
   "cell_type": "markdown",
   "id": "d2942a68-4107-4fd0-8e1e-ac13d8a52cda",
   "metadata": {},
   "source": [
    "In this notebook, Data Science Tools and Ecosystem are summarized.\n"
   ]
  },
  {
   "cell_type": "markdown",
   "id": "db46df03-d456-402a-a0b5-a49854d54e5e",
   "metadata": {},
   "source": [
    "Some of the popular languages that Data Scientists use are:\n",
    "1. Python\n",
    "2. R\n",
    "3. SQL\n",
    "4. julia\n",
    "5. java"
   ]
  },
  {
   "cell_type": "markdown",
   "id": "21d713e3-907c-4e18-a4c2-06d243b91511",
   "metadata": {},
   "source": [
    "Some of the commonly used libraries used by Data Scientists include:\n",
    "1. NumPy\n",
    "2. Pandas\n",
    "3. Matplotlib\n",
    "4. Scikit-learn\n",
    "5. TensorFlow\n",
    "6. Keras\n",
    "7. PyTorch\n",
    "8. Seaborn"
   ]
  },
  {
   "cell_type": "markdown",
   "id": "79e3c2e6-bd89-4219-a75e-8666b0f9a16e",
   "metadata": {},
   "source": [
    "| Data Science Tools |\n",
    "|--------------------|\n",
    "| Jupyter            |\n",
    "| RStudio            |\n",
    "| Apache Hadoop      |\n"
   ]
  },
  {
   "cell_type": "markdown",
   "id": "4d9ed8d9-c03e-4adc-8c31-e24aded8218c",
   "metadata": {},
   "source": [
    "### Below are a few examples of evaluating arithmetic expressions in Python.\n"
   ]
  },
  {
   "cell_type": "code",
   "execution_count": 2,
   "id": "8357f32d-f486-4798-b3e9-16b609feb046",
   "metadata": {},
   "outputs": [
    {
     "data": {
      "text/plain": [
       "17"
      ]
     },
     "execution_count": 2,
     "metadata": {},
     "output_type": "execute_result"
    }
   ],
   "source": [
    "# This is a simple arithmetic expression to multiply then add integers\n",
    "(3 * 4) + 5\n"
   ]
  },
  {
   "cell_type": "code",
   "execution_count": 3,
   "id": "b49043ee-e2c9-404e-9e53-c95d18695d96",
   "metadata": {},
   "outputs": [
    {
     "data": {
      "text/plain": [
       "3.3333333333333335"
      ]
     },
     "execution_count": 3,
     "metadata": {},
     "output_type": "execute_result"
    }
   ],
   "source": [
    "# This will convert 200 minutes to hours by dividing by 60\n",
    "200 / 60\n"
   ]
  },
  {
   "cell_type": "markdown",
   "id": "35015f6b-53b9-4d93-bea5-23c717bac286",
   "metadata": {},
   "source": [
    "**Objectives:**\n",
    "- List popular languages for Data Science\n",
    "- List commonly used libraries for Data Science\n",
    "- Create a table of Data Science tools\n",
    "- Perform arithmetic operations\n",
    "- Convert time units\n"
   ]
  },
  {
   "cell_type": "markdown",
   "id": "2e0c1497-4c7d-45df-a7e2-0e9305fe92a6",
   "metadata": {},
   "source": [
    "## Author\n",
    "Nishil patel\n"
   ]
  },
  {
   "cell_type": "code",
   "execution_count": null,
   "id": "5d30c993-43f2-4c61-9d5d-1963c8efe37d",
   "metadata": {},
   "outputs": [],
   "source": []
  }
 ],
 "metadata": {
  "kernelspec": {
   "display_name": "Python 3 (ipykernel)",
   "language": "python",
   "name": "python3"
  },
  "language_info": {
   "codemirror_mode": {
    "name": "ipython",
    "version": 3
   },
   "file_extension": ".py",
   "mimetype": "text/x-python",
   "name": "python",
   "nbconvert_exporter": "python",
   "pygments_lexer": "ipython3",
   "version": "3.12.2"
  }
 },
 "nbformat": 4,
 "nbformat_minor": 5
}
